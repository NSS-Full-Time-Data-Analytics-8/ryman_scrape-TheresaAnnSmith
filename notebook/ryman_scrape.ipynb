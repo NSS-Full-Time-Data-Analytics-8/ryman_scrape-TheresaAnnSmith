{
 "cells": [
  {
   "cell_type": "code",
   "execution_count": null,
   "id": "74b9ac9e",
   "metadata": {},
   "outputs": [],
   "source": [
    "import requests\n",
    "from bs4 import BeautifulSoup as BS\n",
    "import pandas as pd"
   ]
  },
  {
   "cell_type": "code",
   "execution_count": null,
   "id": "1b674256",
   "metadata": {},
   "outputs": [],
   "source": [
    "URL = 'https://ryman.com/events/'\n",
    "\n",
    "response = requests.get(URL)"
   ]
  },
  {
   "cell_type": "code",
   "execution_count": null,
   "id": "ea054637",
   "metadata": {},
   "outputs": [],
   "source": [
    "type(response)"
   ]
  },
  {
   "cell_type": "code",
   "execution_count": null,
   "id": "2d591881",
   "metadata": {},
   "outputs": [],
   "source": [
    "response.status_code"
   ]
  },
  {
   "cell_type": "code",
   "execution_count": null,
   "id": "8bf8afa1",
   "metadata": {},
   "outputs": [],
   "source": [
    "requests.get('https://ryman.com/events/')"
   ]
  },
  {
   "cell_type": "code",
   "execution_count": null,
   "id": "bf747fa3",
   "metadata": {},
   "outputs": [],
   "source": [
    "soup = BS(response.text)"
   ]
  },
  {
   "cell_type": "code",
   "execution_count": null,
   "id": "0b178543",
   "metadata": {},
   "outputs": [],
   "source": [
    "soup"
   ]
  },
  {
   "cell_type": "markdown",
   "id": "76c8d817",
   "metadata": {},
   "source": [
    "### Get performer names"
   ]
  },
  {
   "cell_type": "code",
   "execution_count": null,
   "id": "9d179690",
   "metadata": {},
   "outputs": [],
   "source": [
    "performers_list = soup.findAll('h2', attrs ={'class':\"tribe-events-list-event-title\"})"
   ]
  },
  {
   "cell_type": "code",
   "execution_count": null,
   "id": "7f8fce7e",
   "metadata": {
    "scrolled": true
   },
   "outputs": [],
   "source": [
    "performers_list"
   ]
  },
  {
   "cell_type": "markdown",
   "id": "1ec8e4a0",
   "metadata": {},
   "source": [
    "### Getting the names of the performers"
   ]
  },
  {
   "cell_type": "code",
   "execution_count": null,
   "id": "b0d2ef64",
   "metadata": {},
   "outputs": [],
   "source": [
    "performer_name = []\n",
    "\n",
    "for name in performers_list:\n",
    "        performer_name.append(name.find('a').get('title'))\n",
    "        \n",
    "performer_name"
   ]
  },
  {
   "cell_type": "code",
   "execution_count": null,
   "id": "b08d91d3",
   "metadata": {},
   "outputs": [],
   "source": [
    "performer_names = [name.find('a').get('title') for name in performers_list]\n",
    "performer_names"
   ]
  },
  {
   "cell_type": "markdown",
   "id": "0e2cbc3b",
   "metadata": {},
   "source": [
    "### Get the dates"
   ]
  },
  {
   "cell_type": "code",
   "execution_count": null,
   "id": "7ccb9479",
   "metadata": {},
   "outputs": [],
   "source": [
    "dates_times = soup.findAll('time')"
   ]
  },
  {
   "cell_type": "code",
   "execution_count": null,
   "id": "b06f80b2",
   "metadata": {},
   "outputs": [],
   "source": [
    "dates_times"
   ]
  },
  {
   "cell_type": "code",
   "execution_count": null,
   "id": "942251f2",
   "metadata": {},
   "outputs": [],
   "source": [
    "for items in dates_times:\n",
    "    print(items.text)"
   ]
  },
  {
   "cell_type": "code",
   "execution_count": null,
   "id": "c46b3cb2",
   "metadata": {},
   "outputs": [],
   "source": [
    "dates_times = [items.text for items in dates_times]"
   ]
  },
  {
   "cell_type": "code",
   "execution_count": null,
   "id": "4b030d08",
   "metadata": {},
   "outputs": [],
   "source": [
    "dates_times"
   ]
  },
  {
   "cell_type": "markdown",
   "id": "7fd46f78",
   "metadata": {},
   "source": [
    "### Get a list of the dates"
   ]
  },
  {
   "cell_type": "code",
   "execution_count": null,
   "id": "795ad431",
   "metadata": {},
   "outputs": [],
   "source": [
    "for i in dates_times:\n",
    "    print(i.split('day, ')[1].split('at ')[0])"
   ]
  },
  {
   "cell_type": "code",
   "execution_count": null,
   "id": "04849d97",
   "metadata": {
    "scrolled": true
   },
   "outputs": [],
   "source": [
    "days= [items.split('day, ')[1].split('at ')[0] for items in dates_times]\n",
    "\n",
    "days"
   ]
  },
  {
   "cell_type": "markdown",
   "id": "b99424f2",
   "metadata": {},
   "source": [
    "### Get a list of the times"
   ]
  },
  {
   "cell_type": "code",
   "execution_count": null,
   "id": "363c6461",
   "metadata": {
    "scrolled": true
   },
   "outputs": [],
   "source": [
    "times = [i.split('t ')[1] for i in dates_times]\n",
    "\n",
    "times"
   ]
  },
  {
   "cell_type": "markdown",
   "id": "1d433f39",
   "metadata": {},
   "source": [
    "### Convert the lists to a data frame"
   ]
  },
  {
   "cell_type": "code",
   "execution_count": null,
   "id": "447ed878",
   "metadata": {},
   "outputs": [],
   "source": [
    "ryman_events_df = pd.DataFrame({\"performer\": performer_names, 'date': days, 'time': times })\n",
    "ryman_events_df    # turning lists into a dataframe"
   ]
  },
  {
   "cell_type": "code",
   "execution_count": null,
   "id": "1a140873",
   "metadata": {},
   "outputs": [],
   "source": [
    "lists = [performer_names, days, times]                            # not quite right\n",
    "ryman_df = pd.concat([pd.Series(i) for i in lists], axis = 1)"
   ]
  },
  {
   "cell_type": "code",
   "execution_count": null,
   "id": "49c7f4fe",
   "metadata": {},
   "outputs": [],
   "source": [
    "ryman_df"
   ]
  },
  {
   "cell_type": "code",
   "execution_count": null,
   "id": "a1e87874",
   "metadata": {},
   "outputs": [],
   "source": [
    "type(ryman_df)"
   ]
  },
  {
   "cell_type": "code",
   "execution_count": null,
   "id": "0f3afb8e",
   "metadata": {},
   "outputs": [],
   "source": [
    "ryman_events = pd.DataFrame(list(zip(performer_names, days, times)),\n",
    "             columns=['Names', 'Day', 'Time'])  # my actual lists, and column names I'm choosing"
   ]
  },
  {
   "cell_type": "code",
   "execution_count": null,
   "id": "1ddfa81f",
   "metadata": {},
   "outputs": [],
   "source": [
    "ryman_events"
   ]
  },
  {
   "cell_type": "code",
   "execution_count": null,
   "id": "c84daa81",
   "metadata": {},
   "outputs": [],
   "source": []
  }
 ],
 "metadata": {
  "kernelspec": {
   "display_name": "Python 3 (ipykernel)",
   "language": "python",
   "name": "python3"
  },
  "language_info": {
   "codemirror_mode": {
    "name": "ipython",
    "version": 3
   },
   "file_extension": ".py",
   "mimetype": "text/x-python",
   "name": "python",
   "nbconvert_exporter": "python",
   "pygments_lexer": "ipython3",
   "version": "3.9.13"
  }
 },
 "nbformat": 4,
 "nbformat_minor": 5
}
